{
 "cells": [
  {
   "cell_type": "code",
   "execution_count": 54,
   "id": "e41b1eae",
   "metadata": {},
   "outputs": [
    {
     "name": "stdout",
     "output_type": "stream",
     "text": [
      "[4, 4, 4, 4, 4, 4, 4, 4]\n"
     ]
    },
    {
     "name": "stderr",
     "output_type": "stream",
     "text": [
      "D:\\New folder\\Lib\\site-packages\\sklearn\\base.py:464: UserWarning: X does not have valid feature names, but RobustScaler was fitted with feature names\n",
      "  warnings.warn(\n",
      "D:\\New folder\\Lib\\site-packages\\sklearn\\base.py:464: UserWarning: X does not have valid feature names, but RobustScaler was fitted with feature names\n",
      "  warnings.warn(\n",
      "D:\\New folder\\Lib\\site-packages\\sklearn\\base.py:464: UserWarning: X does not have valid feature names, but RobustScaler was fitted with feature names\n",
      "  warnings.warn(\n",
      "D:\\New folder\\Lib\\site-packages\\sklearn\\base.py:464: UserWarning: X does not have valid feature names, but RobustScaler was fitted with feature names\n",
      "  warnings.warn(\n",
      "D:\\New folder\\Lib\\site-packages\\sklearn\\base.py:464: UserWarning: X does not have valid feature names, but RobustScaler was fitted with feature names\n",
      "  warnings.warn(\n",
      "D:\\New folder\\Lib\\site-packages\\sklearn\\base.py:464: UserWarning: X does not have valid feature names, but RobustScaler was fitted with feature names\n",
      "  warnings.warn(\n",
      "D:\\New folder\\Lib\\site-packages\\sklearn\\base.py:464: UserWarning: X does not have valid feature names, but RobustScaler was fitted with feature names\n",
      "  warnings.warn(\n",
      "D:\\New folder\\Lib\\site-packages\\sklearn\\base.py:464: UserWarning: X does not have valid feature names, but RobustScaler was fitted with feature names\n",
      "  warnings.warn(\n"
     ]
    }
   ],
   "source": [
    "import joblib\n",
    "import pandas as pd\n",
    "import numpy as np\n",
    "\n",
    "# Load the Trained Model\n",
    "pipeline = joblib.load('C:\\\\Users\\\\mohamed/trained_model.joblib')\n",
    "\n",
    "# Load the EEG Data from CSV\n",
    "file_path = 'OUTPUT.csv'\n",
    "eeg_data = pd.read_csv(file_path)\n",
    "\n",
    "# Assuming the first 32 columns are the relevant EEG channels\n",
    "eeg_columns = eeg_data.iloc[:, :8]  # Use the actual number of relevant EEG channels\n",
    "\n",
    "# Ensure Consistent Channel Names\n",
    "channel_mapping = {\n",
    "    'EEG 1': 'Fz',\n",
    "    'EEG 2': 'C3',\n",
    "    'EEG 3': 'Cz',\n",
    "    'EEG 4': 'C4',\n",
    "    'EEG 5': 'Pz',\n",
    "    'EEG 6': 'PO7',\n",
    "    'EEG 7': 'Oz',\n",
    "    'EEG 8': 'PO8'\n",
    "}\n",
    "\n",
    "# Rename columns to match the channel names in the machine learning model\n",
    "eeg_columns = eeg_columns.rename(columns=channel_mapping)\n",
    "\n",
    "# Make Predictions for each channel\n",
    "predictions_new_data = []\n",
    "\n",
    "# Extract features for each channel\n",
    "for col in eeg_columns.columns:\n",
    "    this_channel_data = eeg_columns[col].values\n",
    "    this_channel_data = np.expand_dims(this_channel_data, axis=0)  # Add a batch dimension\n",
    "\n",
    "    # Make Predictions\n",
    "    prediction = pipeline.predict(this_channel_data)\n",
    "    predictions_new_data.append(prediction[0])  # Extract the number from the array\n",
    "\n",
    "# Print the predictions for each channel\n",
    "print(predictions_new_data)\n"
   ]
  },
  {
   "cell_type": "code",
   "execution_count": 65,
   "id": "6e3c5dfc",
   "metadata": {},
   "outputs": [
    {
     "name": "stdout",
     "output_type": "stream",
     "text": [
      "[2, 2, 2, 2, 2, 2, 2, 2]\n"
     ]
    },
    {
     "name": "stderr",
     "output_type": "stream",
     "text": [
      "D:\\New folder\\Lib\\site-packages\\sklearn\\base.py:464: UserWarning: X does not have valid feature names, but RobustScaler was fitted with feature names\n",
      "  warnings.warn(\n",
      "D:\\New folder\\Lib\\site-packages\\sklearn\\base.py:464: UserWarning: X does not have valid feature names, but RobustScaler was fitted with feature names\n",
      "  warnings.warn(\n",
      "D:\\New folder\\Lib\\site-packages\\sklearn\\base.py:464: UserWarning: X does not have valid feature names, but RobustScaler was fitted with feature names\n",
      "  warnings.warn(\n",
      "D:\\New folder\\Lib\\site-packages\\sklearn\\base.py:464: UserWarning: X does not have valid feature names, but RobustScaler was fitted with feature names\n",
      "  warnings.warn(\n",
      "D:\\New folder\\Lib\\site-packages\\sklearn\\base.py:464: UserWarning: X does not have valid feature names, but RobustScaler was fitted with feature names\n",
      "  warnings.warn(\n",
      "D:\\New folder\\Lib\\site-packages\\sklearn\\base.py:464: UserWarning: X does not have valid feature names, but RobustScaler was fitted with feature names\n",
      "  warnings.warn(\n",
      "D:\\New folder\\Lib\\site-packages\\sklearn\\base.py:464: UserWarning: X does not have valid feature names, but RobustScaler was fitted with feature names\n",
      "  warnings.warn(\n",
      "D:\\New folder\\Lib\\site-packages\\sklearn\\base.py:464: UserWarning: X does not have valid feature names, but RobustScaler was fitted with feature names\n",
      "  warnings.warn(\n"
     ]
    }
   ],
   "source": [
    "import joblib\n",
    "import pandas as pd\n",
    "import numpy as np\n",
    "from sklearn.preprocessing import MinMaxScaler\n",
    "\n",
    "# Load the Trained Model\n",
    "pipeline = joblib.load('C:\\\\Users\\\\mohamed/trained_model.joblib')\n",
    "\n",
    "# Load the EEG Data from CSV\n",
    "file_path = 'UnicornRecorder_20240104_145941.csv'\n",
    "eeg_data = pd.read_csv(file_path)\n",
    "\n",
    "# Assuming the first 32 columns are the relevant EEG channels\n",
    "eeg_columns = eeg_data.iloc[:, :8]  # Use the actual number of relevant EEG channels\n",
    "\n",
    "# Ensure Consistent Channel Names\n",
    "channel_mapping = {\n",
    "    'EEG 1': 'Fz',\n",
    "    'EEG 2': 'C3',\n",
    "    'EEG 3': 'Cz',\n",
    "    'EEG 4': 'C4',\n",
    "    'EEG 5': 'Pz',\n",
    "    'EEG 6': 'PO7',\n",
    "    'EEG 7': 'Oz',\n",
    "    'EEG 8': 'PO8'\n",
    "}\n",
    "\n",
    "# Rename columns to match the channel names in the machine learning model\n",
    "eeg_columns = eeg_columns.rename(columns=channel_mapping)\n",
    "\n",
    "# Min-Max Scaling\n",
    "scaler = MinMaxScaler()\n",
    "eeg_columns_scaled = pd.DataFrame(scaler.fit_transform(eeg_columns), columns=eeg_columns.columns)\n",
    "\n",
    "# Make Predictions for each channel\n",
    "predictions_new_data = []\n",
    "\n",
    "# Extract features for each channel\n",
    "for col in eeg_columns_scaled.columns:\n",
    "    this_channel_data = eeg_columns_scaled[col].values  # Use the scaled data\n",
    "    this_channel_data = np.expand_dims(this_channel_data, axis=0)  # Add a batch dimension\n",
    "\n",
    "    # Make Predictions\n",
    "    prediction = pipeline.predict(this_channel_data)\n",
    "    predictions_new_data.append(prediction[0])  # Extract the number from the array\n",
    "\n",
    "# Print the predictions for each channel\n",
    "print(predictions_new_data)\n"
   ]
  },
  {
   "cell_type": "code",
   "execution_count": null,
   "id": "e7fa0e72",
   "metadata": {},
   "outputs": [],
   "source": []
  }
 ],
 "metadata": {
  "kernelspec": {
   "display_name": "Python 3 (ipykernel)",
   "language": "python",
   "name": "python3"
  },
  "language_info": {
   "codemirror_mode": {
    "name": "ipython",
    "version": 3
   },
   "file_extension": ".py",
   "mimetype": "text/x-python",
   "name": "python",
   "nbconvert_exporter": "python",
   "pygments_lexer": "ipython3",
   "version": "3.11.5"
  }
 },
 "nbformat": 4,
 "nbformat_minor": 5
}
